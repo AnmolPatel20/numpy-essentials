{
 "cells": [
  {
   "cell_type": "code",
   "execution_count": 1,
   "id": "f35047f2-89cd-4bee-b568-5da7c1d845a8",
   "metadata": {},
   "outputs": [],
   "source": [
    "import numpy as np"
   ]
  },
  {
   "cell_type": "code",
   "execution_count": 3,
   "id": "64097e5b-9a4d-48f3-824f-3ea6e5d2beac",
   "metadata": {},
   "outputs": [],
   "source": [
    "arr=np.array([[1,2,3],[4,5,6],[7,8,9],[10,11,12]])"
   ]
  },
  {
   "cell_type": "code",
   "execution_count": 4,
   "id": "3e2e8598-a804-44a4-9a7e-562b4b96ced9",
   "metadata": {},
   "outputs": [
    {
     "data": {
      "text/plain": [
       "array([[ 1,  2,  3],\n",
       "       [ 4,  5,  6],\n",
       "       [ 7,  8,  9],\n",
       "       [10, 11, 12]])"
      ]
     },
     "execution_count": 4,
     "metadata": {},
     "output_type": "execute_result"
    }
   ],
   "source": [
    "arr"
   ]
  },
  {
   "cell_type": "code",
   "execution_count": 6,
   "id": "a77626a4-8252-4ce8-b579-d38b25f99a09",
   "metadata": {},
   "outputs": [],
   "source": [
    "flat = arr.flatten()"
   ]
  },
  {
   "cell_type": "code",
   "execution_count": 7,
   "id": "e45ddbb4-4928-42e1-9c01-030f2691b991",
   "metadata": {},
   "outputs": [
    {
     "data": {
      "text/plain": [
       "array([ 1,  2,  3,  4,  5,  6,  7,  8,  9, 10, 11, 12])"
      ]
     },
     "execution_count": 7,
     "metadata": {},
     "output_type": "execute_result"
    }
   ],
   "source": [
    "flat"
   ]
  },
  {
   "cell_type": "code",
   "execution_count": 8,
   "id": "ee661794-a06f-412d-958d-2fcf47c59137",
   "metadata": {},
   "outputs": [
    {
     "data": {
      "text/plain": [
       "1"
      ]
     },
     "execution_count": 8,
     "metadata": {},
     "output_type": "execute_result"
    }
   ],
   "source": [
    "flat[0]"
   ]
  },
  {
   "cell_type": "code",
   "execution_count": 9,
   "id": "456041d7-f004-42b4-8e6b-7a0cb8860356",
   "metadata": {},
   "outputs": [
    {
     "data": {
      "text/plain": [
       "4"
      ]
     },
     "execution_count": 9,
     "metadata": {},
     "output_type": "execute_result"
    }
   ],
   "source": [
    "flat[3]"
   ]
  },
  {
   "cell_type": "code",
   "execution_count": 10,
   "id": "6e2d09c1-b78d-440b-bce4-8b4577cf9d78",
   "metadata": {},
   "outputs": [
    {
     "data": {
      "text/plain": [
       "array([4, 5, 6])"
      ]
     },
     "execution_count": 10,
     "metadata": {},
     "output_type": "execute_result"
    }
   ],
   "source": [
    "flat[3:6]"
   ]
  },
  {
   "cell_type": "code",
   "execution_count": 14,
   "id": "01aae534-7bd6-4759-9e12-0c87578d7096",
   "metadata": {},
   "outputs": [
    {
     "data": {
      "text/plain": [
       "array([1, 2, 3, 4, 5])"
      ]
     },
     "execution_count": 14,
     "metadata": {},
     "output_type": "execute_result"
    }
   ],
   "source": [
    "#Slicing\n",
    "\n",
    "flat[:5]"
   ]
  },
  {
   "cell_type": "raw",
   "id": "6926fd7b-1068-4bf8-b734-ff76f69450a3",
   "metadata": {},
   "source": [
    "flat[3:]"
   ]
  },
  {
   "cell_type": "code",
   "execution_count": 16,
   "id": "a54e198a-1755-4151-af67-c31d1391c048",
   "metadata": {},
   "outputs": [
    {
     "data": {
      "text/plain": [
       "array([ 1,  3,  5,  7,  9, 11])"
      ]
     },
     "execution_count": 16,
     "metadata": {},
     "output_type": "execute_result"
    }
   ],
   "source": [
    "flat[::2]"
   ]
  },
  {
   "cell_type": "code",
   "execution_count": 17,
   "id": "931651d9-24e4-4409-8c57-bd1dd217275f",
   "metadata": {},
   "outputs": [
    {
     "data": {
      "text/plain": [
       "array([ 1,  2,  3,  4,  5,  6,  7,  8,  9, 10, 11, 12])"
      ]
     },
     "execution_count": 17,
     "metadata": {},
     "output_type": "execute_result"
    }
   ],
   "source": [
    "flat"
   ]
  },
  {
   "cell_type": "code",
   "execution_count": 23,
   "id": "d1b70e59-c4e9-4c61-8021-92809d6ff52a",
   "metadata": {},
   "outputs": [],
   "source": [
    "b=flat[3:7]   #if we want copy then we'll use .copy() for copy mrthog to get copy"
   ]
  },
  {
   "cell_type": "code",
   "execution_count": 19,
   "id": "8e500119-ec87-4c31-a0ee-5bf73018d7a0",
   "metadata": {},
   "outputs": [
    {
     "data": {
      "text/plain": [
       "array([4, 5, 6, 7])"
      ]
     },
     "execution_count": 19,
     "metadata": {},
     "output_type": "execute_result"
    }
   ],
   "source": [
    "b"
   ]
  },
  {
   "cell_type": "code",
   "execution_count": 20,
   "id": "7050a69c-5317-48cd-b1a5-860c37e2a7fe",
   "metadata": {},
   "outputs": [],
   "source": [
    "b[0] = 4444"
   ]
  },
  {
   "cell_type": "code",
   "execution_count": 21,
   "id": "80a04edf-ca89-488d-8915-1d4abd66257d",
   "metadata": {},
   "outputs": [
    {
     "data": {
      "text/plain": [
       "array([4444,    5,    6,    7])"
      ]
     },
     "execution_count": 21,
     "metadata": {},
     "output_type": "execute_result"
    }
   ],
   "source": [
    "b"
   ]
  },
  {
   "cell_type": "code",
   "execution_count": 22,
   "id": "a658aa2a-943c-4831-9e1d-882df8e57b0d",
   "metadata": {},
   "outputs": [
    {
     "data": {
      "text/plain": [
       "array([   1,    2,    3, 4444,    5,    6,    7,    8,    9,   10,   11,\n",
       "         12])"
      ]
     },
     "execution_count": 22,
     "metadata": {},
     "output_type": "execute_result"
    }
   ],
   "source": [
    "flat"
   ]
  },
  {
   "cell_type": "code",
   "execution_count": 24,
   "id": "496cd2cc-c79a-47de-920d-63ac26948c2b",
   "metadata": {},
   "outputs": [],
   "source": [
    "arr = np.array([1,54,23,53,2,3,34,5,6])"
   ]
  },
  {
   "cell_type": "code",
   "execution_count": 26,
   "id": "8214cc77-d181-49a1-a355-19541a34a9cc",
   "metadata": {},
   "outputs": [
    {
     "data": {
      "text/plain": [
       "array([54,  2, 34])"
      ]
     },
     "execution_count": 26,
     "metadata": {},
     "output_type": "execute_result"
    }
   ],
   "source": [
    "arr[[1,4,6]]   #fancy indexing (Select Multiple elemenets)"
   ]
  },
  {
   "cell_type": "code",
   "execution_count": 28,
   "id": "a901a9fa-99f9-4994-999a-5aa7d6b7d4a4",
   "metadata": {},
   "outputs": [
    {
     "data": {
      "text/plain": [
       "array([54, 53, 34])"
      ]
     },
     "execution_count": 28,
     "metadata": {},
     "output_type": "execute_result"
    }
   ],
   "source": [
    "arr[ arr>23 ] #Boolean Masking (Filter Data) For conditions"
   ]
  },
  {
   "cell_type": "code",
   "execution_count": 29,
   "id": "1e4b0d34-89ae-4f46-a8af-3000cc937c6d",
   "metadata": {},
   "outputs": [],
   "source": [
    "#Exercise For Practise"
   ]
  },
  {
   "cell_type": "code",
   "execution_count": 42,
   "id": "8665a8ee-f613-4f61-9deb-51aee4e32b2b",
   "metadata": {},
   "outputs": [
    {
     "name": "stdout",
     "output_type": "stream",
     "text": [
      "[[0.08987207 0.77330656 0.47793079]\n",
      " [0.18142458 0.16606681 0.29608093]\n",
      " [0.5759051  0.0244095  0.28334155]]\n",
      "(3, 3)\n"
     ]
    }
   ],
   "source": [
    "#Create a 3*3 array filed with random numbers and print its shape\n",
    "\n",
    "import numpy as np\n",
    "import random\n",
    "\n",
    "arr=np.random.rand(3,3)\n",
    "print(arr)\n",
    "print(arr.shape)"
   ]
  },
  {
   "cell_type": "code",
   "execution_count": 2,
   "id": "60156cc7-f920-421a-ae6e-37dc448bf2f5",
   "metadata": {},
   "outputs": [
    {
     "name": "stdout",
     "output_type": "stream",
     "text": [
      "[1 2 3]\n"
     ]
    }
   ],
   "source": [
    "#Convert an array of floats [1.1,2.2,3.3] into integers\n",
    "\n",
    "import numpy as np\n",
    "\n",
    "float_array = np.array([1.1,2.2,3.3],dtype=float)\n",
    "int_array= float_array.astype(int)\n",
    "\n",
    "print(int_array)"
   ]
  },
  {
   "cell_type": "code",
   "execution_count": 3,
   "id": "782a8fbc-dec0-49cd-b3f2-c95b46576597",
   "metadata": {},
   "outputs": [
    {
     "name": "stdout",
     "output_type": "stream",
     "text": [
      "[2 4 6]\n"
     ]
    }
   ],
   "source": [
    "#Use Facncy Indexing to extract even numbers from [1,2,3,4,5,6]\n",
    "\n",
    "import numpy as np\n",
    "\n",
    "arr=np.array([1,2,3,4,5,6])\n",
    "idx=[1,3,5]\n",
    "\n",
    "print(arr[idx])"
   ]
  },
  {
   "cell_type": "code",
   "execution_count": 6,
   "id": "2983a3f4-1814-4d87-ba11-72f44cf966fc",
   "metadata": {},
   "outputs": [
    {
     "name": "stdout",
     "output_type": "stream",
     "text": [
      "[[1 2 3]\n",
      " [4 5 6]\n",
      " [7 8 9]]\n"
     ]
    }
   ],
   "source": [
    "#reshape a 1D array of size 9 into 3*3 matrix\n",
    "\n",
    "import numpy as np\n",
    "\n",
    "arr =  np.array([1,2,3,4,5,6,7,8,9])\n",
    "myarr = arr.reshape((3,3))\n",
    "\n",
    "print(myarr)"
   ]
  },
  {
   "cell_type": "code",
   "execution_count": 8,
   "id": "461dcd98-b539-4f23-b719-e6b1e870c8e3",
   "metadata": {},
   "outputs": [
    {
     "name": "stdout",
     "output_type": "stream",
     "text": [
      "[ 60  70  80  90 100]\n"
     ]
    }
   ],
   "source": [
    "#Use Boolean masking to filter numbers greater than 50 in array\n",
    "\n",
    "import numpy as np\n",
    "\n",
    "arr = np.array([10,20,30,40,50,60,70,80,90,100])\n",
    "mask = arr>50\n",
    "print(arr[mask])"
   ]
  }
 ],
 "metadata": {
  "kernelspec": {
   "display_name": "Python 3 (ipykernel)",
   "language": "python",
   "name": "python3"
  },
  "language_info": {
   "codemirror_mode": {
    "name": "ipython",
    "version": 3
   },
   "file_extension": ".py",
   "mimetype": "text/x-python",
   "name": "python",
   "nbconvert_exporter": "python",
   "pygments_lexer": "ipython3",
   "version": "3.12.7"
  }
 },
 "nbformat": 4,
 "nbformat_minor": 5
}
